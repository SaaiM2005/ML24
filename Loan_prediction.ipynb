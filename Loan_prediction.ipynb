{
 "cells": [
  {
   "cell_type": "code",
   "execution_count": 1,
   "metadata": {},
   "outputs": [],
   "source": [
    "import pandas as pd\n",
    "import numpy as np"
   ]
  },
  {
   "cell_type": "code",
   "execution_count": 2,
   "metadata": {},
   "outputs": [],
   "source": [
    "data = {\n",
    "    'ApplicantIncome': [5000, 3000, 4500, 6000, 2000, 4000],\n",
    "    'CreditScore': [700, 650, 720, 680, 600, 720],\n",
    "    'LoanAmount': [200, 150, 180, 210, 100, 170],\n",
    "    'LoanApproved': [1, 0, 1, 1, 0, 1]  # 1 = Approved, 0 = Not Approved\n",
    "}\n"
   ]
  },
  {
   "cell_type": "code",
   "execution_count": 3,
   "metadata": {},
   "outputs": [],
   "source": [
    "# Create a DataFrame\n",
    "loan_data = pd.DataFrame(data)\n"
   ]
  },
  {
   "cell_type": "code",
   "execution_count": 4,
   "metadata": {},
   "outputs": [
    {
     "name": "stdout",
     "output_type": "stream",
     "text": [
      "Sample loan dataset created: loan_data.csv\n"
     ]
    }
   ],
   "source": [
    "# Save to CSV\n",
    "loan_data.to_csv('loan_data.csv', index=False)\n",
    "\n",
    "print(\"Sample loan dataset created: loan_data.csv\")"
   ]
  },
  {
   "cell_type": "code",
   "execution_count": 5,
   "metadata": {},
   "outputs": [
    {
     "data": {
      "text/html": [
       "<div>\n",
       "<style scoped>\n",
       "    .dataframe tbody tr th:only-of-type {\n",
       "        vertical-align: middle;\n",
       "    }\n",
       "\n",
       "    .dataframe tbody tr th {\n",
       "        vertical-align: top;\n",
       "    }\n",
       "\n",
       "    .dataframe thead th {\n",
       "        text-align: right;\n",
       "    }\n",
       "</style>\n",
       "<table border=\"1\" class=\"dataframe\">\n",
       "  <thead>\n",
       "    <tr style=\"text-align: right;\">\n",
       "      <th></th>\n",
       "      <th>ApplicantIncome</th>\n",
       "      <th>CreditScore</th>\n",
       "      <th>LoanAmount</th>\n",
       "      <th>LoanApproved</th>\n",
       "    </tr>\n",
       "  </thead>\n",
       "  <tbody>\n",
       "    <tr>\n",
       "      <th>0</th>\n",
       "      <td>5000</td>\n",
       "      <td>700</td>\n",
       "      <td>200</td>\n",
       "      <td>1</td>\n",
       "    </tr>\n",
       "    <tr>\n",
       "      <th>1</th>\n",
       "      <td>3000</td>\n",
       "      <td>650</td>\n",
       "      <td>150</td>\n",
       "      <td>0</td>\n",
       "    </tr>\n",
       "    <tr>\n",
       "      <th>2</th>\n",
       "      <td>4500</td>\n",
       "      <td>720</td>\n",
       "      <td>180</td>\n",
       "      <td>1</td>\n",
       "    </tr>\n",
       "    <tr>\n",
       "      <th>3</th>\n",
       "      <td>6000</td>\n",
       "      <td>680</td>\n",
       "      <td>210</td>\n",
       "      <td>1</td>\n",
       "    </tr>\n",
       "    <tr>\n",
       "      <th>4</th>\n",
       "      <td>2000</td>\n",
       "      <td>600</td>\n",
       "      <td>100</td>\n",
       "      <td>0</td>\n",
       "    </tr>\n",
       "    <tr>\n",
       "      <th>5</th>\n",
       "      <td>4000</td>\n",
       "      <td>720</td>\n",
       "      <td>170</td>\n",
       "      <td>1</td>\n",
       "    </tr>\n",
       "  </tbody>\n",
       "</table>\n",
       "</div>"
      ],
      "text/plain": [
       "   ApplicantIncome  CreditScore  LoanAmount  LoanApproved\n",
       "0             5000          700         200             1\n",
       "1             3000          650         150             0\n",
       "2             4500          720         180             1\n",
       "3             6000          680         210             1\n",
       "4             2000          600         100             0\n",
       "5             4000          720         170             1"
      ]
     },
     "execution_count": 5,
     "metadata": {},
     "output_type": "execute_result"
    }
   ],
   "source": [
    "loan_data"
   ]
  },
  {
   "cell_type": "code",
   "execution_count": 6,
   "metadata": {},
   "outputs": [
    {
     "data": {
      "text/plain": [
       "Index(['ApplicantIncome', 'CreditScore', 'LoanAmount', 'LoanApproved'], dtype='object')"
      ]
     },
     "execution_count": 6,
     "metadata": {},
     "output_type": "execute_result"
    }
   ],
   "source": [
    "loan_data.columns"
   ]
  },
  {
   "cell_type": "code",
   "execution_count": 14,
   "metadata": {},
   "outputs": [
    {
     "data": {
      "text/plain": [
       "5000"
      ]
     },
     "execution_count": 14,
     "metadata": {},
     "output_type": "execute_result"
    }
   ],
   "source": [
    "loan_data.iloc[0]['ApplicantIncome']"
   ]
  },
  {
   "cell_type": "code",
   "execution_count": null,
   "metadata": {},
   "outputs": [],
   "source": []
  },
  {
   "cell_type": "code",
   "execution_count": null,
   "metadata": {},
   "outputs": [],
   "source": []
  },
  {
   "cell_type": "code",
   "execution_count": null,
   "metadata": {},
   "outputs": [],
   "source": []
  },
  {
   "cell_type": "code",
   "execution_count": null,
   "metadata": {},
   "outputs": [],
   "source": []
  },
  {
   "cell_type": "code",
   "execution_count": null,
   "metadata": {},
   "outputs": [],
   "source": []
  },
  {
   "cell_type": "code",
   "execution_count": null,
   "metadata": {},
   "outputs": [],
   "source": []
  },
  {
   "cell_type": "code",
   "execution_count": null,
   "metadata": {},
   "outputs": [],
   "source": []
  },
  {
   "cell_type": "code",
   "execution_count": 9,
   "metadata": {},
   "outputs": [],
   "source": [
    "# New loan application\n",
    "new_application = {\n",
    "    'ApplicantIncome': 3500,\n",
    "    'CreditScore': 670,\n",
    "    'LoanAmount': 160\n",
    "}"
   ]
  },
  {
   "cell_type": "code",
   "execution_count": 16,
   "metadata": {},
   "outputs": [
    {
     "name": "stdout",
     "output_type": "stream",
     "text": [
      "   ApplicantIncome  CreditScore  LoanAmount  LoanApproved     Distance\n",
      "0             5000          700         200             1  1500.833102\n",
      "1             3000          650         150             0   500.499750\n",
      "2             4500          720         180             1  1001.448950\n",
      "3             6000          680         210             1  2500.519946\n",
      "4             2000          600         100             0  1502.830662\n",
      "5             4000          720         170             1   502.593275\n"
     ]
    }
   ],
   "source": [
    "#cal distance using formula\n",
    "\n",
    "# Function to calculate Euclidean distance\n",
    "def calculate_distance(row):\n",
    "    return np.sqrt(\n",
    "        (row['ApplicantIncome'] - new_application['ApplicantIncome']) ** 2 +\n",
    "        (row['CreditScore'] - new_application['CreditScore']) ** 2 +\n",
    "        (row['LoanAmount'] - new_application['LoanAmount']) ** 2\n",
    "    )\n",
    "\n",
    "# Calculate distances for all entries in the dataset\n",
    "loan_data['Distance'] = loan_data.apply(calculate_distance, axis=1)\n",
    "\n",
    "# Display the results\n",
    "print(loan_data[['ApplicantIncome', 'CreditScore', 'LoanAmount', 'LoanApproved', 'Distance']])"
   ]
  },
  {
   "cell_type": "code",
   "execution_count": 17,
   "metadata": {},
   "outputs": [
    {
     "data": {
      "text/html": [
       "<div>\n",
       "<style scoped>\n",
       "    .dataframe tbody tr th:only-of-type {\n",
       "        vertical-align: middle;\n",
       "    }\n",
       "\n",
       "    .dataframe tbody tr th {\n",
       "        vertical-align: top;\n",
       "    }\n",
       "\n",
       "    .dataframe thead th {\n",
       "        text-align: right;\n",
       "    }\n",
       "</style>\n",
       "<table border=\"1\" class=\"dataframe\">\n",
       "  <thead>\n",
       "    <tr style=\"text-align: right;\">\n",
       "      <th></th>\n",
       "      <th>ApplicantIncome</th>\n",
       "      <th>CreditScore</th>\n",
       "      <th>LoanAmount</th>\n",
       "      <th>LoanApproved</th>\n",
       "      <th>Distance</th>\n",
       "    </tr>\n",
       "  </thead>\n",
       "  <tbody>\n",
       "    <tr>\n",
       "      <th>0</th>\n",
       "      <td>5000</td>\n",
       "      <td>700</td>\n",
       "      <td>200</td>\n",
       "      <td>1</td>\n",
       "      <td>1500.833102</td>\n",
       "    </tr>\n",
       "    <tr>\n",
       "      <th>1</th>\n",
       "      <td>3000</td>\n",
       "      <td>650</td>\n",
       "      <td>150</td>\n",
       "      <td>0</td>\n",
       "      <td>500.499750</td>\n",
       "    </tr>\n",
       "    <tr>\n",
       "      <th>2</th>\n",
       "      <td>4500</td>\n",
       "      <td>720</td>\n",
       "      <td>180</td>\n",
       "      <td>1</td>\n",
       "      <td>1001.448950</td>\n",
       "    </tr>\n",
       "    <tr>\n",
       "      <th>3</th>\n",
       "      <td>6000</td>\n",
       "      <td>680</td>\n",
       "      <td>210</td>\n",
       "      <td>1</td>\n",
       "      <td>2500.519946</td>\n",
       "    </tr>\n",
       "    <tr>\n",
       "      <th>4</th>\n",
       "      <td>2000</td>\n",
       "      <td>600</td>\n",
       "      <td>100</td>\n",
       "      <td>0</td>\n",
       "      <td>1502.830662</td>\n",
       "    </tr>\n",
       "    <tr>\n",
       "      <th>5</th>\n",
       "      <td>4000</td>\n",
       "      <td>720</td>\n",
       "      <td>170</td>\n",
       "      <td>1</td>\n",
       "      <td>502.593275</td>\n",
       "    </tr>\n",
       "  </tbody>\n",
       "</table>\n",
       "</div>"
      ],
      "text/plain": [
       "   ApplicantIncome  CreditScore  LoanAmount  LoanApproved     Distance\n",
       "0             5000          700         200             1  1500.833102\n",
       "1             3000          650         150             0   500.499750\n",
       "2             4500          720         180             1  1001.448950\n",
       "3             6000          680         210             1  2500.519946\n",
       "4             2000          600         100             0  1502.830662\n",
       "5             4000          720         170             1   502.593275"
      ]
     },
     "execution_count": 17,
     "metadata": {},
     "output_type": "execute_result"
    }
   ],
   "source": [
    "loan_data"
   ]
  },
  {
   "cell_type": "code",
   "execution_count": 18,
   "metadata": {},
   "outputs": [
    {
     "data": {
      "text/html": [
       "<div>\n",
       "<style scoped>\n",
       "    .dataframe tbody tr th:only-of-type {\n",
       "        vertical-align: middle;\n",
       "    }\n",
       "\n",
       "    .dataframe tbody tr th {\n",
       "        vertical-align: top;\n",
       "    }\n",
       "\n",
       "    .dataframe thead th {\n",
       "        text-align: right;\n",
       "    }\n",
       "</style>\n",
       "<table border=\"1\" class=\"dataframe\">\n",
       "  <thead>\n",
       "    <tr style=\"text-align: right;\">\n",
       "      <th></th>\n",
       "      <th>ApplicantIncome</th>\n",
       "      <th>CreditScore</th>\n",
       "      <th>LoanAmount</th>\n",
       "      <th>LoanApproved</th>\n",
       "      <th>Distance</th>\n",
       "    </tr>\n",
       "  </thead>\n",
       "  <tbody>\n",
       "    <tr>\n",
       "      <th>1</th>\n",
       "      <td>3000</td>\n",
       "      <td>650</td>\n",
       "      <td>150</td>\n",
       "      <td>0</td>\n",
       "      <td>500.499750</td>\n",
       "    </tr>\n",
       "    <tr>\n",
       "      <th>5</th>\n",
       "      <td>4000</td>\n",
       "      <td>720</td>\n",
       "      <td>170</td>\n",
       "      <td>1</td>\n",
       "      <td>502.593275</td>\n",
       "    </tr>\n",
       "    <tr>\n",
       "      <th>2</th>\n",
       "      <td>4500</td>\n",
       "      <td>720</td>\n",
       "      <td>180</td>\n",
       "      <td>1</td>\n",
       "      <td>1001.448950</td>\n",
       "    </tr>\n",
       "    <tr>\n",
       "      <th>0</th>\n",
       "      <td>5000</td>\n",
       "      <td>700</td>\n",
       "      <td>200</td>\n",
       "      <td>1</td>\n",
       "      <td>1500.833102</td>\n",
       "    </tr>\n",
       "    <tr>\n",
       "      <th>4</th>\n",
       "      <td>2000</td>\n",
       "      <td>600</td>\n",
       "      <td>100</td>\n",
       "      <td>0</td>\n",
       "      <td>1502.830662</td>\n",
       "    </tr>\n",
       "    <tr>\n",
       "      <th>3</th>\n",
       "      <td>6000</td>\n",
       "      <td>680</td>\n",
       "      <td>210</td>\n",
       "      <td>1</td>\n",
       "      <td>2500.519946</td>\n",
       "    </tr>\n",
       "  </tbody>\n",
       "</table>\n",
       "</div>"
      ],
      "text/plain": [
       "   ApplicantIncome  CreditScore  LoanAmount  LoanApproved     Distance\n",
       "1             3000          650         150             0   500.499750\n",
       "5             4000          720         170             1   502.593275\n",
       "2             4500          720         180             1  1001.448950\n",
       "0             5000          700         200             1  1500.833102\n",
       "4             2000          600         100             0  1502.830662\n",
       "3             6000          680         210             1  2500.519946"
      ]
     },
     "execution_count": 18,
     "metadata": {},
     "output_type": "execute_result"
    }
   ],
   "source": [
    "#Now Sorting dataset according to distance\n",
    "loan_data.sort_values(by='Distance')\n"
   ]
  },
  {
   "cell_type": "code",
   "execution_count": 23,
   "metadata": {},
   "outputs": [
    {
     "name": "stdout",
     "output_type": "stream",
     "text": [
      "Enter K value :\n",
      "3\n"
     ]
    }
   ],
   "source": [
    "print(\"Enter K value :\")\n",
    "k_val=input()"
   ]
  },
  {
   "cell_type": "code",
   "execution_count": null,
   "metadata": {},
   "outputs": [],
   "source": []
  },
  {
   "cell_type": "code",
   "execution_count": null,
   "metadata": {},
   "outputs": [],
   "source": [
    " "
   ]
  },
  {
   "cell_type": "code",
   "execution_count": 24,
   "metadata": {},
   "outputs": [
    {
     "name": "stdout",
     "output_type": "stream",
     "text": [
      "Nearest Neighbors:\n",
      "   ApplicantIncome  CreditScore  LoanAmount  LoanApproved     Distance\n",
      "1             3000          650         150             0   500.499750\n",
      "5             4000          720         170             1   502.593275\n",
      "2             4500          720         180             1  1001.448950\n",
      "\n",
      "Predicted Loan Approval Status: 1\n"
     ]
    }
   ],
   "source": [
    "# Calculate distances for each row\n",
    "loan_data['Distance'] = loan_data.apply(calculate_distance, axis=1)\n",
    "\n",
    " \n",
    "k_val = 3  # Choose an odd value for K\n",
    "nearest_neighbors = loan_data.nsmallest(k_val, 'Distance')\n",
    "\n",
    "# Step 4: Majority Voting\n",
    "vote_count = nearest_neighbors['LoanApproved'].value_counts()\n",
    "predicted_approval = vote_count.idxmax()\n",
    "\n",
    "# Step 5: Display results\n",
    "print(\"Nearest Neighbors:\")\n",
    "print(nearest_neighbors[['ApplicantIncome', 'CreditScore', 'LoanAmount', 'LoanApproved', 'Distance']])\n",
    "print(f\"\\nPredicted Loan Approval Status: {predicted_approval}\")"
   ]
  },
  {
   "cell_type": "code",
   "execution_count": null,
   "metadata": {},
   "outputs": [],
   "source": []
  },
  {
   "cell_type": "code",
   "execution_count": null,
   "metadata": {},
   "outputs": [],
   "source": []
  },
  {
   "cell_type": "code",
   "execution_count": null,
   "metadata": {},
   "outputs": [],
   "source": []
  },
  {
   "cell_type": "code",
   "execution_count": null,
   "metadata": {},
   "outputs": [],
   "source": []
  },
  {
   "cell_type": "code",
   "execution_count": null,
   "metadata": {},
   "outputs": [],
   "source": []
  },
  {
   "cell_type": "code",
   "execution_count": null,
   "metadata": {},
   "outputs": [],
   "source": []
  },
  {
   "cell_type": "code",
   "execution_count": null,
   "metadata": {},
   "outputs": [],
   "source": []
  },
  {
   "cell_type": "code",
   "execution_count": null,
   "metadata": {},
   "outputs": [],
   "source": []
  },
  {
   "cell_type": "code",
   "execution_count": null,
   "metadata": {},
   "outputs": [],
   "source": [
    " "
   ]
  },
  {
   "cell_type": "code",
   "execution_count": null,
   "metadata": {},
   "outputs": [],
   "source": [
    " "
   ]
  },
  {
   "cell_type": "code",
   "execution_count": null,
   "metadata": {},
   "outputs": [],
   "source": []
  },
  {
   "cell_type": "code",
   "execution_count": null,
   "metadata": {},
   "outputs": [],
   "source": []
  },
  {
   "cell_type": "code",
   "execution_count": null,
   "metadata": {},
   "outputs": [],
   "source": []
  },
  {
   "cell_type": "code",
   "execution_count": null,
   "metadata": {},
   "outputs": [],
   "source": []
  },
  {
   "cell_type": "code",
   "execution_count": null,
   "metadata": {},
   "outputs": [],
   "source": []
  },
  {
   "cell_type": "code",
   "execution_count": null,
   "metadata": {},
   "outputs": [],
   "source": []
  },
  {
   "cell_type": "code",
   "execution_count": null,
   "metadata": {},
   "outputs": [],
   "source": []
  }
 ],
 "metadata": {
  "kernelspec": {
   "display_name": "Python 3",
   "language": "python",
   "name": "python3"
  },
  "language_info": {
   "codemirror_mode": {
    "name": "ipython",
    "version": 3
   },
   "file_extension": ".py",
   "mimetype": "text/x-python",
   "name": "python",
   "nbconvert_exporter": "python",
   "pygments_lexer": "ipython3",
   "version": "3.8.5"
  }
 },
 "nbformat": 4,
 "nbformat_minor": 4
}
