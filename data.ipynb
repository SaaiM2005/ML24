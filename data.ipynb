{
 "cells": [
  {
   "cell_type": "code",
   "execution_count": 1,
   "metadata": {},
   "outputs": [],
   "source": [
    "import pandas as pd\n",
    "import numpy as np"
   ]
  },
  {
   "cell_type": "code",
   "execution_count": 3,
   "metadata": {},
   "outputs": [
    {
     "data": {
      "text/html": [
       "<div>\n",
       "<style scoped>\n",
       "    .dataframe tbody tr th:only-of-type {\n",
       "        vertical-align: middle;\n",
       "    }\n",
       "\n",
       "    .dataframe tbody tr th {\n",
       "        vertical-align: top;\n",
       "    }\n",
       "\n",
       "    .dataframe thead th {\n",
       "        text-align: right;\n",
       "    }\n",
       "</style>\n",
       "<table border=\"1\" class=\"dataframe\">\n",
       "  <thead>\n",
       "    <tr style=\"text-align: right;\">\n",
       "      <th></th>\n",
       "      <th>Channel</th>\n",
       "      <th>Velocity</th>\n",
       "      <th>Conversion</th>\n",
       "      <th>Value</th>\n",
       "    </tr>\n",
       "  </thead>\n",
       "  <tbody>\n",
       "    <tr>\n",
       "      <th>0</th>\n",
       "      <td>Banner Ads</td>\n",
       "      <td>NaN</td>\n",
       "      <td>0.077795</td>\n",
       "      <td>2586.099782</td>\n",
       "    </tr>\n",
       "    <tr>\n",
       "      <th>1</th>\n",
       "      <td>Email</td>\n",
       "      <td>110.743042</td>\n",
       "      <td>0.052954</td>\n",
       "      <td>2131.200000</td>\n",
       "    </tr>\n",
       "    <tr>\n",
       "      <th>2</th>\n",
       "      <td>Search</td>\n",
       "      <td>124.261170</td>\n",
       "      <td>0.069350</td>\n",
       "      <td>6119.402184</td>\n",
       "    </tr>\n",
       "    <tr>\n",
       "      <th>3</th>\n",
       "      <td>Events</td>\n",
       "      <td>23.761955</td>\n",
       "      <td>0.088925</td>\n",
       "      <td>5757.405730</td>\n",
       "    </tr>\n",
       "    <tr>\n",
       "      <th>4</th>\n",
       "      <td>Social</td>\n",
       "      <td>NaN</td>\n",
       "      <td>NaN</td>\n",
       "      <td>5425.634412</td>\n",
       "    </tr>\n",
       "    <tr>\n",
       "      <th>5</th>\n",
       "      <td>Content Syndication</td>\n",
       "      <td>36.784186</td>\n",
       "      <td>0.089063</td>\n",
       "      <td>2396.927089</td>\n",
       "    </tr>\n",
       "    <tr>\n",
       "      <th>6</th>\n",
       "      <td>Nurture</td>\n",
       "      <td>30.726479</td>\n",
       "      <td>0.024148</td>\n",
       "      <td>6321.727997</td>\n",
       "    </tr>\n",
       "    <tr>\n",
       "      <th>7</th>\n",
       "      <td>Sponsorship</td>\n",
       "      <td>55.122562</td>\n",
       "      <td>NaN</td>\n",
       "      <td>1224.400000</td>\n",
       "    </tr>\n",
       "    <tr>\n",
       "      <th>8</th>\n",
       "      <td>Display</td>\n",
       "      <td>143.331883</td>\n",
       "      <td>0.002187</td>\n",
       "      <td>8178.076695</td>\n",
       "    </tr>\n",
       "    <tr>\n",
       "      <th>9</th>\n",
       "      <td>Retargetting</td>\n",
       "      <td>NaN</td>\n",
       "      <td>0.087794</td>\n",
       "      <td>8414.072599</td>\n",
       "    </tr>\n",
       "    <tr>\n",
       "      <th>10</th>\n",
       "      <td>Newsletter Sponsorship</td>\n",
       "      <td>NaN</td>\n",
       "      <td>0.086062</td>\n",
       "      <td>1503.153609</td>\n",
       "    </tr>\n",
       "  </tbody>\n",
       "</table>\n",
       "</div>"
      ],
      "text/plain": [
       "                   Channel    Velocity  Conversion        Value\n",
       "0               Banner Ads         NaN    0.077795  2586.099782\n",
       "1                    Email  110.743042    0.052954  2131.200000\n",
       "2                   Search  124.261170    0.069350  6119.402184\n",
       "3                   Events   23.761955    0.088925  5757.405730\n",
       "4                   Social         NaN         NaN  5425.634412\n",
       "5      Content Syndication   36.784186    0.089063  2396.927089\n",
       "6                  Nurture   30.726479    0.024148  6321.727997\n",
       "7              Sponsorship   55.122562         NaN  1224.400000\n",
       "8                  Display  143.331883    0.002187  8178.076695\n",
       "9             Retargetting         NaN    0.087794  8414.072599\n",
       "10  Newsletter Sponsorship         NaN    0.086062  1503.153609"
      ]
     },
     "execution_count": 3,
     "metadata": {},
     "output_type": "execute_result"
    }
   ],
   "source": [
    "df=pd.read_csv('data.csv')\n",
    "df"
   ]
  },
  {
   "cell_type": "code",
   "execution_count": 5,
   "metadata": {},
   "outputs": [
    {
     "data": {
      "text/plain": [
       "143.331883"
      ]
     },
     "execution_count": 5,
     "metadata": {},
     "output_type": "execute_result"
    }
   ],
   "source": [
    "df['Velocity'].max()"
   ]
  },
  {
   "cell_type": "code",
   "execution_count": 6,
   "metadata": {},
   "outputs": [],
   "source": [
    "import scipy"
   ]
  },
  {
   "cell_type": "code",
   "execution_count": 7,
   "metadata": {},
   "outputs": [],
   "source": [
    "import time"
   ]
  },
  {
   "cell_type": "code",
   "execution_count": 8,
   "metadata": {},
   "outputs": [],
   "source": [
    "from sklearn.preprocessing import LabelEncoder"
   ]
  },
  {
   "cell_type": "code",
   "execution_count": 9,
   "metadata": {},
   "outputs": [],
   "source": [
    "from sklearn.impute import SimpleImputer"
   ]
  },
  {
   "cell_type": "code",
   "execution_count": null,
   "metadata": {},
   "outputs": [],
   "source": []
  }
 ],
 "metadata": {
  "kernelspec": {
   "display_name": "Python 3",
   "language": "python",
   "name": "python3"
  },
  "language_info": {
   "codemirror_mode": {
    "name": "ipython",
    "version": 3
   },
   "file_extension": ".py",
   "mimetype": "text/x-python",
   "name": "python",
   "nbconvert_exporter": "python",
   "pygments_lexer": "ipython3",
   "version": "3.12.2"
  }
 },
 "nbformat": 4,
 "nbformat_minor": 2
}
