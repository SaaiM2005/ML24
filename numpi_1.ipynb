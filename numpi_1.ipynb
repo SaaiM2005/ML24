{
 "cells": [
  {
   "cell_type": "markdown",
   "id": "53ff651c",
   "metadata": {},
   "source": [
    "# NUMPY FUNDAMENTALS"
   ]
  },
  {
   "cell_type": "code",
   "execution_count": 109,
   "id": "496db829-f088-4d10-97bf-82dafc337f01",
   "metadata": {},
   "outputs": [],
   "source": [
    "#NUMPY AND N-D ARRAYS\n",
    "import numpy as np"
   ]
  },
  {
   "cell_type": "code",
   "execution_count": 110,
   "id": "c048c5bd-44f8-4be3-9076-d2053a8dce9e",
   "metadata": {},
   "outputs": [
    {
     "name": "stdout",
     "output_type": "stream",
     "text": [
      "[1 2 3 4]\n"
     ]
    }
   ],
   "source": [
    "arr1=np.array([1,2,3,4])\n",
    "print(arr1)"
   ]
  },
  {
   "cell_type": "code",
   "execution_count": 111,
   "id": "52e1a3db-c10a-48bf-aae5-39cb73055ac3",
   "metadata": {},
   "outputs": [
    {
     "data": {
      "text/plain": [
       "numpy.ndarray"
      ]
     },
     "execution_count": 111,
     "metadata": {},
     "output_type": "execute_result"
    }
   ],
   "source": [
    "type(arr1)"
   ]
  },
  {
   "cell_type": "code",
   "execution_count": 112,
   "id": "9d25d5b7-3423-40ab-b0a9-4fe5c91023fc",
   "metadata": {},
   "outputs": [
    {
     "data": {
      "text/plain": [
       "array([[0., 0., 0.],\n",
       "       [0., 0., 0.]])"
      ]
     },
     "execution_count": 112,
     "metadata": {},
     "output_type": "execute_result"
    }
   ],
   "source": [
    "arr2=np.array([[1,2,3],[4,5,6]])\n",
    "arr2\n",
    "\n",
    "arr3=np.zeros((2,3))\n",
    "arr3\n",
    "#SIMILARLY WE CAN DO FOR ONES\n"
   ]
  },
  {
   "cell_type": "code",
   "execution_count": 113,
   "id": "8e46baa4-a612-46a5-b0e7-6974e2c69a51",
   "metadata": {},
   "outputs": [
    {
     "data": {
      "text/plain": [
       "array([[1., 0., 0., 0., 0.],\n",
       "       [0., 1., 0., 0., 0.],\n",
       "       [0., 0., 1., 0., 0.],\n",
       "       [0., 0., 0., 1., 0.],\n",
       "       [0., 0., 0., 0., 1.]])"
      ]
     },
     "execution_count": 113,
     "metadata": {},
     "output_type": "execute_result"
    }
   ],
   "source": [
    "#IDENTITY MATRIX // DIAGONALLY ALL VALUES ARE 1 REMAINING ARE ZERO\n",
    "arr5=np.identity(5)\n",
    "arr5\n"
   ]
  },
  {
   "cell_type": "code",
   "execution_count": 114,
   "id": "78c6e2ef-2754-44d7-9466-29eae4510782",
   "metadata": {},
   "outputs": [
    {
     "name": "stdout",
     "output_type": "stream",
     "text": [
      "[0 1 2 3 4 5 6 7 8 9]\n",
      "[5 6 7 8 9]\n",
      "[5 7 9]\n"
     ]
    }
   ],
   "source": [
    "arr6=np.arange(10)  # a range similarly like range\n",
    "print(arr6) \n",
    "arr7=np.arange(5,10)   # soruce and final destination\n",
    "print(arr7)\n",
    "arr8=np.arange(5,10,2)   # soruce and final destination leaving 2 numbers\n",
    "print(arr8)"
   ]
  },
  {
   "cell_type": "code",
   "execution_count": 115,
   "id": "1935f540-5210-44bd-a94d-f65c5d2637ee",
   "metadata": {},
   "outputs": [
    {
     "name": "stdout",
     "output_type": "stream",
     "text": [
      "[ 5.  12.5 20. ]\n",
      "[5 7 9]\n"
     ]
    }
   ],
   "source": [
    "# linspace function does linearly spacing \n",
    "arr9=np.linspace(5,20,3)\n",
    "print(arr9) \n",
    "\n",
    "arr10=arr8.copy()\n",
    "print(arr10)"
   ]
  },
  {
   "cell_type": "code",
   "execution_count": 116,
   "id": "c87c79cc-766f-473a-a3e1-44756ab56161",
   "metadata": {},
   "outputs": [
    {
     "data": {
      "text/plain": [
       "array([1, 2, 3, 4])"
      ]
     },
     "execution_count": 116,
     "metadata": {},
     "output_type": "execute_result"
    }
   ],
   "source": [
    "arr1"
   ]
  },
  {
   "cell_type": "code",
   "execution_count": 117,
   "id": "9cdf33f1-4990-4995-862a-f98456ab3738",
   "metadata": {},
   "outputs": [
    {
     "data": {
      "text/plain": [
       "1"
      ]
     },
     "execution_count": 117,
     "metadata": {},
     "output_type": "execute_result"
    }
   ],
   "source": [
    "arr1.ndim  # gives us the dimensions of the array"
   ]
  },
  {
   "cell_type": "code",
   "execution_count": 118,
   "id": "0ae872b1-9bf2-4755-97a3-5e7c4db08ced",
   "metadata": {},
   "outputs": [
    {
     "data": {
      "text/plain": [
       "dtype('int32')"
      ]
     },
     "execution_count": 118,
     "metadata": {},
     "output_type": "execute_result"
    }
   ],
   "source": [
    "arr1.dtype"
   ]
  },
  {
   "cell_type": "code",
   "execution_count": 119,
   "id": "4f56e261-4ba5-4488-ba59-062987747728",
   "metadata": {},
   "outputs": [
    {
     "data": {
      "text/plain": [
       "dtype('float64')"
      ]
     },
     "execution_count": 119,
     "metadata": {},
     "output_type": "execute_result"
    }
   ],
   "source": [
    "arr9.dtype"
   ]
  },
  {
   "cell_type": "code",
   "execution_count": 120,
   "id": "5588bc03-f93b-4597-aba4-2aebeebafea3",
   "metadata": {},
   "outputs": [
    {
     "data": {
      "text/plain": [
       "array([ 5, 12, 20])"
      ]
     },
     "execution_count": 120,
     "metadata": {},
     "output_type": "execute_result"
    }
   ],
   "source": [
    "#converts to any data type\n",
    "arr9.astype('int')"
   ]
  },
  {
   "cell_type": "code",
   "execution_count": 121,
   "id": "af0fb041-fcd7-45e7-93a9-5f86e52b8af9",
   "metadata": {},
   "outputs": [],
   "source": [
    "\n",
    "lista=range(100)\n",
    "arr11=np.arange(100)\n"
   ]
  },
  {
   "cell_type": "code",
   "execution_count": 122,
   "id": "2f81632e-d2b6-42f8-842e-e000499c39f0",
   "metadata": {},
   "outputs": [],
   "source": [
    "import sys"
   ]
  },
  {
   "cell_type": "code",
   "execution_count": 123,
   "id": "5bad3cf5-eded-4db3-a4f1-962efa4a1547",
   "metadata": {},
   "outputs": [
    {
     "name": "stdout",
     "output_type": "stream",
     "text": [
      "2800\n",
      "400\n"
     ]
    }
   ],
   "source": [
    "print(sys.getsizeof(87)*len(lista))\n",
    "print(arr11.itemsize*arr11.size)\n"
   ]
  },
  {
   "cell_type": "markdown",
   "id": "cb3cd7ba-a55d-4ec2-8e4d-1382b40121e8",
   "metadata": {},
   "source": [
    "## NUMPY ARRAYS VS LISTS\n",
    "### CALCULATING TIME REQUIRED FOR np.arrays & regular lists"
   ]
  },
  {
   "cell_type": "code",
   "execution_count": 124,
   "id": "6772038a-7bbc-489c-a984-b0d251986f78",
   "metadata": {},
   "outputs": [
    {
     "name": "stdout",
     "output_type": "stream",
     "text": [
      "17.41089916229248\n",
      "10.46317195892334\n"
     ]
    }
   ],
   "source": [
    "import time\n",
    "\n",
    "x=range(100000000)\n",
    "y=range(100000000,200000000)\n",
    "start_time=time.time()\n",
    "\n",
    "c=[x+y for x,y in zip(x,y)]\n",
    "print(time.time()-start_time)\n",
    "\n",
    "\n",
    "#---------------------------------------------------\n",
    "a=np.arange(100000000)\n",
    "b=np.arange(100000000,200000000)\n",
    "start_time=time.time()\n",
    "c=a+b \n",
    "\n",
    "print(time.time()-start_time)"
   ]
  },
  {
   "cell_type": "markdown",
   "id": "6c6bc84d-001b-4bf5-a578-26314b662bb4",
   "metadata": {},
   "source": [
    "# INDEXING SLICING AND ITERATION"
   ]
  },
  {
   "cell_type": "code",
   "execution_count": 125,
   "id": "eaf52972-2647-4d04-a40c-c06347200530",
   "metadata": {},
   "outputs": [
    {
     "name": "stdout",
     "output_type": "stream",
     "text": [
      "[[ 0  1  2  3]\n",
      " [ 4  5  6  7]\n",
      " [ 8  9 10 11]\n",
      " [12 13 14 15]\n",
      " [16 17 18 19]\n",
      " [20 21 22 23]]\n"
     ]
    }
   ],
   "source": [
    "arr12=np.arange(24).reshape(6,4)     # vertical 6 rows and 4 columns...we can reshape the given desired array on the basis of their multiples\n",
    "\n",
    "\n",
    "print(arr12)"
   ]
  },
  {
   "cell_type": "code",
   "execution_count": 126,
   "id": "1d98f9cf-874e-4b3c-b38d-d4fc608eecc4",
   "metadata": {},
   "outputs": [
    {
     "name": "stdout",
     "output_type": "stream",
     "text": [
      "[ 8  9 10 11]\n",
      "[ 2  6 10 14 18 22]\n"
     ]
    }
   ],
   "source": [
    "new=arr12[2]\n",
    "print(new)\n",
    "# here we have obtained the 3rd columnn\n",
    "new1=arr12[:,2]  #colon chya adhi kahi nasel tr it considers as all elements present in the data \n",
    "print(new1)"
   ]
  },
  {
   "cell_type": "code",
   "execution_count": 127,
   "id": "07018cf9-9cd8-40b7-ac65-2bdfc2b588db",
   "metadata": {},
   "outputs": [
    {
     "name": "stdout",
     "output_type": "stream",
     "text": [
      "[ 2  6 10 14 18 22]\n",
      "\n",
      "\n",
      "[[ 9 10]\n",
      " [13 14]]\n"
     ]
    }
   ],
   "source": [
    "qw=arr12[:,2]\n",
    "print(qw)\n",
    "print(\"\\n\")\n",
    "we=arr12[2:4,1:3]   #FIRST ROWS THEN COLOUMN  \n",
    "print(we)"
   ]
  },
  {
   "cell_type": "markdown",
   "id": "48e7a7c0",
   "metadata": {},
   "source": [
    "# ITERATIONS\n",
    "#### USED A 'FOR' LOOP"
   ]
  },
  {
   "cell_type": "code",
   "execution_count": 128,
   "id": "2411a4f3",
   "metadata": {},
   "outputs": [
    {
     "name": "stdout",
     "output_type": "stream",
     "text": [
      "0\n",
      "1\n",
      "2\n",
      "3\n",
      "4\n",
      "5\n",
      "6\n",
      "7\n",
      "8\n",
      "9\n",
      "10\n",
      "11\n",
      "12\n",
      "13\n",
      "14\n",
      "15\n",
      "16\n",
      "17\n",
      "18\n",
      "19\n",
      "20\n",
      "21\n",
      "22\n",
      "23\n"
     ]
    }
   ],
   "source": [
    "\n",
    "# IF WE WANT TO PUT ANY PARTICULAR FILTER TO ANY IMAGE WE CAN USE nditer\n",
    "for i in np.nditer(arr12):\n",
    "    print(i)"
   ]
  },
  {
   "cell_type": "markdown",
   "id": "93d9e215",
   "metadata": {},
   "source": [
    "## MATHEMATICAL OPERATIONS"
   ]
  },
  {
   "cell_type": "code",
   "execution_count": 129,
   "id": "fc57fbb7",
   "metadata": {},
   "outputs": [],
   "source": [
    "arr13=np.array([1,2,3,4])\n",
    "arr14=np.array([5,6,7,8])\n",
    "\n"
   ]
  },
  {
   "cell_type": "code",
   "execution_count": 130,
   "id": "dfa4af17",
   "metadata": {},
   "outputs": [
    {
     "data": {
      "text/plain": [
       "array([4, 4, 4, 4])"
      ]
     },
     "execution_count": 130,
     "metadata": {},
     "output_type": "execute_result"
    }
   ],
   "source": [
    "arr14-arr13"
   ]
  },
  {
   "cell_type": "code",
   "execution_count": 131,
   "id": "ce436408",
   "metadata": {},
   "outputs": [
    {
     "data": {
      "text/plain": [
       "array([ 5, 12, 21, 32])"
      ]
     },
     "execution_count": 131,
     "metadata": {},
     "output_type": "execute_result"
    }
   ],
   "source": [
    "arr14*arr13"
   ]
  },
  {
   "cell_type": "code",
   "execution_count": 132,
   "id": "e91eec1f",
   "metadata": {},
   "outputs": [
    {
     "data": {
      "text/plain": [
       "array([False, False, False, False])"
      ]
     },
     "execution_count": 132,
     "metadata": {},
     "output_type": "execute_result"
    }
   ],
   "source": [
    "arr14>10"
   ]
  },
  {
   "cell_type": "code",
   "execution_count": 133,
   "id": "928cb152",
   "metadata": {},
   "outputs": [
    {
     "data": {
      "text/plain": [
       "array([ 6,  8, 10, 12])"
      ]
     },
     "execution_count": 133,
     "metadata": {},
     "output_type": "execute_result"
    }
   ],
   "source": [
    "arr14+arr13"
   ]
  },
  {
   "cell_type": "markdown",
   "id": "9fb91555",
   "metadata": {},
   "source": [
    "### DOT PRODUCT\n",
    "#### HAVING MENTIONED THE SIZE IS SAME OF BOTH THE MATRIX"
   ]
  },
  {
   "cell_type": "code",
   "execution_count": 134,
   "id": "3d0f5f08",
   "metadata": {},
   "outputs": [
    {
     "name": "stdout",
     "output_type": "stream",
     "text": [
      "[[0 1]\n",
      " [2 3]\n",
      " [4 5]]\n",
      "\n",
      "\n",
      "[[ 6  7  8]\n",
      " [ 9 10 11]]\n",
      "\n",
      "\n",
      "[[ 9 10 11]\n",
      " [39 44 49]\n",
      " [69 78 87]]\n"
     ]
    }
   ],
   "source": [
    "arr15=np.arange(6).reshape(3,2)\n",
    "print(arr15)\n",
    "print(\"\\n\")\n",
    "arr16=np.arange(6,12).reshape(2,3)\n",
    "print(arr16)\n",
    "print(\"\\n\")\n",
    "arr17=arr15.dot(arr16)\n",
    "print(arr17)\n"
   ]
  },
  {
   "cell_type": "code",
   "execution_count": 135,
   "id": "ef149828",
   "metadata": {},
   "outputs": [
    {
     "data": {
      "text/plain": [
       "0"
      ]
     },
     "execution_count": 135,
     "metadata": {},
     "output_type": "execute_result"
    }
   ],
   "source": [
    "arr14.max()    \n",
    "\n",
    "arr15.min()"
   ]
  },
  {
   "cell_type": "markdown",
   "id": "11a08565",
   "metadata": {},
   "source": [
    "##### DEFINE AXIS OF PARTICULAR MATRIX TO GET IT'S MIN,MAX"
   ]
  },
  {
   "cell_type": "code",
   "execution_count": 136,
   "id": "4eb51916",
   "metadata": {},
   "outputs": [
    {
     "name": "stdout",
     "output_type": "stream",
     "text": [
      "[[1 2 3]\n",
      " [4 5 6]\n",
      " [7 8 9]]\n"
     ]
    },
    {
     "data": {
      "text/plain": [
       "array([3, 6, 9])"
      ]
     },
     "execution_count": 136,
     "metadata": {},
     "output_type": "execute_result"
    }
   ],
   "source": [
    "arr18=np.array([[1,2,3],[4,5,6],[7,8,9]])\n",
    "print(arr18)\n",
    "\n",
    "arr18.min(axis=0)\n",
    "\n",
    "arr18.max(axis=1)"
   ]
  },
  {
   "cell_type": "markdown",
   "id": "977d7db4",
   "metadata": {},
   "source": [
    "### IMPPORTANT FUNCTIONS IN NUMPY"
   ]
  },
  {
   "cell_type": "code",
   "execution_count": 137,
   "id": "0407cba1",
   "metadata": {},
   "outputs": [
    {
     "data": {
      "text/plain": [
       "5.0"
      ]
     },
     "execution_count": 137,
     "metadata": {},
     "output_type": "execute_result"
    }
   ],
   "source": [
    "arr18.mean()"
   ]
  },
  {
   "cell_type": "code",
   "execution_count": 138,
   "id": "da99ab03",
   "metadata": {},
   "outputs": [
    {
     "data": {
      "text/plain": [
       "array([4., 5., 6.])"
      ]
     },
     "execution_count": 138,
     "metadata": {},
     "output_type": "execute_result"
    }
   ],
   "source": [
    "arr18.mean(axis=0)"
   ]
  },
  {
   "cell_type": "code",
   "execution_count": 139,
   "id": "c26f7f80",
   "metadata": {},
   "outputs": [
    {
     "data": {
      "text/plain": [
       "2.581988897471611"
      ]
     },
     "execution_count": 139,
     "metadata": {},
     "output_type": "execute_result"
    }
   ],
   "source": [
    "arr18.std()"
   ]
  },
  {
   "cell_type": "code",
   "execution_count": 140,
   "id": "d35f8a55",
   "metadata": {},
   "outputs": [
    {
     "data": {
      "text/plain": [
       "5.0"
      ]
     },
     "execution_count": 140,
     "metadata": {},
     "output_type": "execute_result"
    }
   ],
   "source": [
    "np.median(arr18)"
   ]
  },
  {
   "cell_type": "code",
   "execution_count": 141,
   "id": "9641009f",
   "metadata": {},
   "outputs": [
    {
     "data": {
      "text/plain": [
       "array([[2.71828183e+00, 7.38905610e+00, 2.00855369e+01],\n",
       "       [5.45981500e+01, 1.48413159e+02, 4.03428793e+02],\n",
       "       [1.09663316e+03, 2.98095799e+03, 8.10308393e+03]])"
      ]
     },
     "execution_count": 141,
     "metadata": {},
     "output_type": "execute_result"
    }
   ],
   "source": [
    "np.exp(arr18)   # exponent of arr18"
   ]
  },
  {
   "cell_type": "markdown",
   "id": "50a43895",
   "metadata": {},
   "source": [
    "### SIN functions"
   ]
  },
  {
   "cell_type": "code",
   "execution_count": 142,
   "id": "ede43707",
   "metadata": {},
   "outputs": [
    {
     "data": {
      "text/plain": [
       "array([[ 0.84147098,  0.90929743,  0.14112001],\n",
       "       [-0.7568025 , -0.95892427, -0.2794155 ],\n",
       "       [ 0.6569866 ,  0.98935825,  0.41211849]])"
      ]
     },
     "execution_count": 142,
     "metadata": {},
     "output_type": "execute_result"
    }
   ],
   "source": [
    "np.sin(arr18)"
   ]
  },
  {
   "cell_type": "markdown",
   "id": "a8a78266",
   "metadata": {
    "tags": [
     "parameters"
    ]
   },
   "source": [
    "# RESHAPING NUMPY ARRAYS"
   ]
  },
  {
   "cell_type": "code",
   "execution_count": 143,
   "id": "9cd89396",
   "metadata": {},
   "outputs": [
    {
     "data": {
      "text/plain": [
       "2"
      ]
     },
     "execution_count": 143,
     "metadata": {},
     "output_type": "execute_result"
    }
   ],
   "source": [
    "# provides the dimension\n",
    "arr18.ndim"
   ]
  },
  {
   "cell_type": "markdown",
   "id": "6e2bd5eb",
   "metadata": {},
   "source": [
    "#### RAVEL FUNCTION CAN CONVERT ANY DIMENSION ARRAY TO 1 DIMENSION ARRAY"
   ]
  },
  {
   "cell_type": "code",
   "execution_count": 144,
   "id": "31c2bcf2",
   "metadata": {},
   "outputs": [
    {
     "data": {
      "text/plain": [
       "array([1, 2, 3, 4, 5, 6, 7, 8, 9])"
      ]
     },
     "execution_count": 144,
     "metadata": {},
     "output_type": "execute_result"
    }
   ],
   "source": [
    "arr18.ravel()"
   ]
  },
  {
   "cell_type": "markdown",
   "id": "6f8c124f",
   "metadata": {},
   "source": [
    "#### RESHAPE IS TO CONVERT ANY ARRAY SAY OF SIZE 24 IN ANY FORMAT SUCH AS [6,4] ,[12,2] ETC"
   ]
  },
  {
   "cell_type": "code",
   "execution_count": 146,
   "id": "138de711",
   "metadata": {},
   "outputs": [
    {
     "data": {
      "text/plain": [
       "array([[1],\n",
       "       [2],\n",
       "       [3],\n",
       "       [4],\n",
       "       [5],\n",
       "       [6],\n",
       "       [7],\n",
       "       [8],\n",
       "       [9]])"
      ]
     },
     "execution_count": 146,
     "metadata": {},
     "output_type": "execute_result"
    }
   ],
   "source": [
    "arr18.reshape(9,1)"
   ]
  },
  {
   "cell_type": "markdown",
   "id": "52d8483a",
   "metadata": {},
   "source": [
    "#### TRANSPOSE:- ROWS TO COLUMNS ,COLUMNS TO ROWS"
   ]
  },
  {
   "cell_type": "code",
   "execution_count": 147,
   "id": "6e81e40c",
   "metadata": {},
   "outputs": [
    {
     "data": {
      "text/plain": [
       "array([[1, 4, 7],\n",
       "       [2, 5, 8],\n",
       "       [3, 6, 9]])"
      ]
     },
     "execution_count": 147,
     "metadata": {},
     "output_type": "execute_result"
    }
   ],
   "source": [
    "arr18.transpose()"
   ]
  },
  {
   "cell_type": "markdown",
   "id": "d16efc07",
   "metadata": {},
   "source": [
    "#### hstack does HORIZONTAL STACKING OF PROVIDED ARRAYS\n",
    "#### vstack does VERTICAL STACKING OF PROVIDED ARRAYS"
   ]
  },
  {
   "cell_type": "code",
   "execution_count": 155,
   "id": "dcae9f29",
   "metadata": {},
   "outputs": [
    {
     "name": "stdout",
     "output_type": "stream",
     "text": [
      "[1 2 3 4 5 6]\n",
      "[[1 2 3]\n",
      " [4 5 6]]\n"
     ]
    }
   ],
   "source": [
    "zx=np.array([1,2,3,4])\n",
    "cx=np.array([4,5,6,8])\n",
    "yu=np.hstack((zx,cx))\n",
    "print(yu)\n",
    "op=np.vstack((zx,cx))\n",
    "print(op)"
   ]
  },
  {
   "cell_type": "markdown",
   "id": "8e2138e0",
   "metadata": {},
   "source": [
    "#### SPLITING\n",
    "##### WE CAN SPLIT THE ARRAY IN EQUAL PARTS"
   ]
  },
  {
   "cell_type": "code",
   "execution_count": 159,
   "id": "84c1ab41",
   "metadata": {},
   "outputs": [
    {
     "data": {
      "text/plain": [
       "[array([1, 2, 3])]"
      ]
     },
     "execution_count": 159,
     "metadata": {},
     "output_type": "execute_result"
    }
   ],
   "source": [
    "np.hsplit(zx,1)"
   ]
  },
  {
   "cell_type": "code",
   "execution_count": 167,
   "id": "bc861211",
   "metadata": {},
   "outputs": [
    {
     "data": {
      "text/plain": [
       "[array([1, 2, 3])]"
      ]
     },
     "execution_count": 167,
     "metadata": {},
     "output_type": "execute_result"
    }
   ],
   "source": [
    "np.split(zx,1)"
   ]
  },
  {
   "cell_type": "markdown",
   "id": "65d1c9de",
   "metadata": {},
   "source": [
    "## FANCY INDEXING"
   ]
  },
  {
   "cell_type": "code",
   "execution_count": 168,
   "id": "e7315593",
   "metadata": {},
   "outputs": [
    {
     "data": {
      "text/plain": [
       "array([[ 0,  1,  2,  3],\n",
       "       [ 4,  5,  6,  7],\n",
       "       [ 8,  9, 10, 11],\n",
       "       [12, 13, 14, 15],\n",
       "       [16, 17, 18, 19],\n",
       "       [20, 21, 22, 23]])"
      ]
     },
     "execution_count": 168,
     "metadata": {},
     "output_type": "execute_result"
    }
   ],
   "source": [
    "arr19=np.arange(24).reshape(6,4)\n",
    "arr19"
   ]
  },
  {
   "cell_type": "code",
   "execution_count": 177,
   "id": "92a645b7",
   "metadata": {},
   "outputs": [
    {
     "name": "stdout",
     "output_type": "stream",
     "text": [
      "[[ 0  2]\n",
      " [ 4  6]\n",
      " [ 8 10]\n",
      " [12 14]\n",
      " [16 18]\n",
      " [20 22]]\n",
      "\n",
      "\n",
      "[[ 4  5  6  7]\n",
      " [ 8  9 10 11]\n",
      " [12 13 14 15]]\n"
     ]
    }
   ],
   "source": [
    "y=arr19[:,[0,2]]  # ACCESSING COLUMNS DIRECTLY USING FANCY INDEXES\n",
    "print(y)\n",
    "print(\"\\n\")\n",
    "z=arr19[[1,2,3]]  # ACCESSING ROWS DIRECTLY USING FANCY INDEXES\n",
    "print(z)"
   ]
  },
  {
   "cell_type": "markdown",
   "id": "c17cf133",
   "metadata": {},
   "source": [
    "## INDEXING USING BOOLEAN ARRAYS"
   ]
  },
  {
   "cell_type": "code",
   "execution_count": 178,
   "id": "62146626",
   "metadata": {},
   "outputs": [
    {
     "data": {
      "text/plain": [
       "array([[21, 47],\n",
       "       [48, 45],\n",
       "       [14, 35],\n",
       "       [43, 23],\n",
       "       [40, 17]])"
      ]
     },
     "execution_count": 178,
     "metadata": {},
     "output_type": "execute_result"
    }
   ],
   "source": [
    "arr20=np.random.randint(low=1,high=50,size=10).reshape(5,2)\n",
    "arr20"
   ]
  },
  {
   "cell_type": "code",
   "execution_count": 181,
   "id": "678965af",
   "metadata": {},
   "outputs": [
    {
     "data": {
      "text/plain": [
       "array([47, 48, 45, 35, 43, 40])"
      ]
     },
     "execution_count": 181,
     "metadata": {},
     "output_type": "execute_result"
    }
   ],
   "source": [
    "arr20[arr20>30]   # here we achieved indexing through boolean arrays"
   ]
  },
  {
   "cell_type": "code",
   "execution_count": 180,
   "id": "513b08a7",
   "metadata": {},
   "outputs": [
    {
     "data": {
      "text/plain": [
       "array([[False,  True],\n",
       "       [ True,  True],\n",
       "       [False,  True],\n",
       "       [ True, False],\n",
       "       [ True, False]])"
      ]
     },
     "execution_count": 180,
     "metadata": {},
     "output_type": "execute_result"
    }
   ],
   "source": [
    "arr20>30"
   ]
  },
  {
   "cell_type": "code",
   "execution_count": null,
   "id": "59d6f7c4",
   "metadata": {},
   "outputs": [],
   "source": []
  }
 ],
 "metadata": {
  "kernelspec": {
   "display_name": "Python 3 (ipykernel)",
   "language": "python",
   "name": "python3"
  },
  "language_info": {
   "codemirror_mode": {
    "name": "ipython",
    "version": 3
   },
   "file_extension": ".py",
   "mimetype": "text/x-python",
   "name": "python",
   "nbconvert_exporter": "python",
   "pygments_lexer": "ipython3",
   "version": "3.12.2"
  }
 },
 "nbformat": 4,
 "nbformat_minor": 5
}
