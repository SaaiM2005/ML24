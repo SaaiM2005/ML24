{
 "cells": [
  {
   "cell_type": "code",
   "execution_count": 1,
   "metadata": {},
   "outputs": [
    {
     "name": "stdout",
     "output_type": "stream",
     "text": [
      "Original Data_set : \n",
      "     Age  Income  Number of Credit Cards  Loan Sanctioned\n",
      "0    56   80263                       4                1\n",
      "1    69   36023                       3                0\n",
      "2    46   61090                       0                0\n",
      "3    32   87221                       0                0\n",
      "4    60   84820                       2                1\n",
      "5    25   20769                       2                0\n",
      "6    38   79735                       1                0\n",
      "7    56   82955                       3                1\n",
      "8    36   84925                       3                1\n",
      "9    40   87969                       5                1\n",
      "10   28   25311                       5                0\n",
      "11   28  103104                       5                1\n",
      "12   41   73707                       2                1\n",
      "13   70  105305                       3                1\n",
      "14   53   48693                       3                0\n",
      "X Part : \n",
      " [[    56  80263      4]\n",
      " [    69  36023      3]\n",
      " [    46  61090      0]\n",
      " [    32  87221      0]\n",
      " [    60  84820      2]\n",
      " [    25  20769      2]\n",
      " [    38  79735      1]\n",
      " [    56  82955      3]\n",
      " [    36  84925      3]\n",
      " [    40  87969      5]\n",
      " [    28  25311      5]\n",
      " [    28 103104      5]\n",
      " [    41  73707      2]\n",
      " [    70 105305      3]\n",
      " [    53  48693      3]]\n",
      "Y Part : \n",
      " [1 0 0 0 1 0 0 1 1 1 0 1 1 1 0]\n"
     ]
    }
   ],
   "source": [
    "import numpy as np\n",
    "import pandas as pd\n",
    "\n",
    "df = pd.read_csv(\"loan_data.csv\")\n",
    "print(\"Original Data_set : \\n\",df)\n",
    "\n",
    "x = df.iloc[:,:-1].values\n",
    "y = df.iloc[:,-1].values\n",
    "\n",
    "print(\"X Part : \\n\",x)\n",
    "print(\"Y Part : \\n\",y)"
   ]
  },
  {
   "cell_type": "code",
   "execution_count": 19,
   "metadata": {
    "scrolled": true
   },
   "outputs": [
    {
     "name": "stdout",
     "output_type": "stream",
     "text": [
      "Sorted Data : \n",
      "     Age  Income  Number of Credit Cards  Loan Sanctioned  Euclidean_Distance\n",
      "10   28   25311                       5                0         1689.005329\n",
      "5    25   20769                       2                0         6231.002889\n",
      "1    69   36023                       3                0         9023.080073\n",
      "14   53   48693                       3                0        21693.011179\n",
      "2    46   61090                       0                0        34090.003359\n",
      "12   41   73707                       2                1        46707.001071\n",
      "6    38   79735                       1                0        52735.000474\n",
      "0    56   80263                       4                1        53263.005905\n",
      "7    56   82955                       3                1        55955.005594\n",
      "4    60   84820                       2                1        57820.007273\n",
      "8    36   84925                       3                1        57925.000224\n",
      "3    32   87221                       0                0        60221.000042\n",
      "9    40   87969                       5                1        60969.000738\n",
      "11   28  103104                       5                1        76104.000118\n",
      "13   70  105305                       3                1        78305.009718\n"
     ]
    },
    {
     "name": "stderr",
     "output_type": "stream",
     "text": [
      "C:\\Users\\HP\\AppData\\Local\\Temp\\ipykernel_3792\\2272995036.py:11: FutureWarning: Series.__getitem__ treating keys as positions is deprecated. In a future version, integer keys will always be treated as labels (consistent with DataFrame behavior). To access a value by position, use `ser.iloc[pos]`\n",
      "  distance += (row[i] - new_app[i]) ** 2\n"
     ]
    }
   ],
   "source": [
    "from math import sqrt\n",
    "from collections import Counter\n",
    "\n",
    "# Define the new loan application\n",
    "new_application = np.array([31, 27000, 2])  # Example: Age=31, Income=27000, Credit Cards=2\n",
    "\n",
    "# Euclidean distance calculation function (compare only first 3 columns, the features)\n",
    "def euclidean_distance(row, new_app):\n",
    "    distance = 0\n",
    "    for i in range(len(new_app)):  # Loop only over the length of new_application\n",
    "        distance += (row[i] - new_app[i]) ** 2\n",
    "    return sqrt(distance)\n",
    "\n",
    "# Calculate Euclidean distances for the new application\n",
    "df['Euclidean_Distance'] = df.apply(lambda row: euclidean_distance(row[:3], new_application), axis=1)  # Only use first 3 columns (Age, Income, Credit Cards)\n",
    "\n",
    "# Sort by Euclidean Distance\n",
    "df_sorted = df.sort_values(by='Euclidean_Distance')\n",
    "print(\"Sorted Data : \\n\",df_sorted)"
   ]
  },
  {
   "cell_type": "code",
   "execution_count": 5,
   "metadata": {},
   "outputs": [
    {
     "name": "stdin",
     "output_type": "stream",
     "text": [
      "Please enter a value for k:  3\n"
     ]
    },
    {
     "name": "stdout",
     "output_type": "stream",
     "text": [
      "3\n"
     ]
    }
   ],
   "source": [
    "def suggest_odd_k():\n",
    "    k = int(input(\"Please enter a value for k: \"))\n",
    "    \n",
    "    if k % 2 == 0:\n",
    "        below = k - 1\n",
    "        above = k + 1\n",
    "        print(f\"You entered an even number it is not valid for knn !!!!!\")        \n",
    "        choice = input(f\"Please enter {below} or {above} as your odd value for k: \")\n",
    "        \n",
    "        if choice in [str(below), str(above)]:\n",
    "            print(choice)\n",
    "        else:\n",
    "            print(\"Invalid choice. Please run the program again.\")\n",
    "    else:\n",
    "        print(k)\n",
    "\n",
    "suggest_odd_k()"
   ]
  },
  {
   "cell_type": "code",
   "execution_count": 21,
   "metadata": {},
   "outputs": [
    {
     "name": "stdin",
     "output_type": "stream",
     "text": [
      "Please enter a value for k:  3\n"
     ]
    },
    {
     "name": "stdout",
     "output_type": "stream",
     "text": [
      "3\n",
      "Regression result (Predicted Income): 70792.66666666667\n",
      "\n",
      "The None nearest neighbors are:\n",
      "     Age  Income  Number of Credit Cards  Loan Sanctioned  Euclidean_Distance\n",
      "10   28   25311                       5                0         1689.005329\n",
      "5    25   20769                       2                0         6231.002889\n",
      "1    69   36023                       3                0         9023.080073\n",
      "14   53   48693                       3                0        21693.011179\n",
      "2    46   61090                       0                0        34090.003359\n",
      "12   41   73707                       2                1        46707.001071\n",
      "6    38   79735                       1                0        52735.000474\n",
      "0    56   80263                       4                1        53263.005905\n",
      "7    56   82955                       3                1        55955.005594\n",
      "4    60   84820                       2                1        57820.007273\n",
      "8    36   84925                       3                1        57925.000224\n",
      "3    32   87221                       0                0        60221.000042\n",
      "9    40   87969                       5                1        60969.000738\n",
      "11   28  103104                       5                1        76104.000118\n",
      "13   70  105305                       3                1        78305.009718\n"
     ]
    }
   ],
   "source": [
    "# Get a valid odd value for 'k'\n",
    "k = suggest_odd_k()\n",
    "\n",
    "# Select the k nearest neighbors\n",
    "k_nearest_neighbors = df_sorted.head(k)\n",
    "\n",
    "# Regression (average voting for continuous value prediction)\n",
    "def average_voting(neighbors):\n",
    "    target_values = neighbors.iloc[:, 1].values  # Assuming income is the second column\n",
    "    return np.mean(target_values)\n",
    "\n",
    "# Perform regression to predict income\n",
    "predicted_income = average_voting(k_nearest_neighbors)\n",
    "print(f\"Regression result (Predicted Income): {predicted_income}\")\n",
    "\n",
    "# Show the k-nearest neighbors\n",
    "print(f\"\\nThe {k} nearest neighbors are:\\n\", k_nearest_neighbors)\n"
   ]
  },
  {
   "cell_type": "code",
   "execution_count": null,
   "metadata": {},
   "outputs": [],
   "source": []
  }
 ],
 "metadata": {
  "kernelspec": {
   "display_name": "Python 3 (ipykernel)",
   "language": "python",
   "name": "python3"
  },
  "language_info": {
   "codemirror_mode": {
    "name": "ipython",
    "version": 3
   },
   "file_extension": ".py",
   "mimetype": "text/x-python",
   "name": "python",
   "nbconvert_exporter": "python",
   "pygments_lexer": "ipython3",
   "version": "3.12.4"
  }
 },
 "nbformat": 4,
 "nbformat_minor": 4
}
